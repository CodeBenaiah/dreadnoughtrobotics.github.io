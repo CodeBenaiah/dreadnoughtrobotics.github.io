{
 "cells": [
  {
   "cell_type": "code",
   "execution_count": 1,
   "metadata": {},
   "outputs": [],
   "source": [
    "import numpy as np\n",
    "import cv2\n",
    "import os\n",
    "import random\n",
    "import re"
   ]
  },
  {
   "cell_type": "code",
   "execution_count": 2,
   "metadata": {},
   "outputs": [],
   "source": [
    "def get_image_filenames():\n",
    "    images = []\n",
    "    for i in os.listdir():\n",
    "        if re.match(r'^.+\\.(jpg|png|jpeg)$' , i):   \n",
    "            images.append(i)\n",
    "    return images"
   ]
  },
  {
   "cell_type": "markdown",
   "metadata": {},
   "source": [
    "<h3>Renaming the images</h3>\n",
    "Used to rename new , improperly named images. Changes the name of images to an integer."
   ]
  },
  {
   "cell_type": "code",
   "execution_count": 3,
   "metadata": {},
   "outputs": [
    {
     "name": "stdout",
     "output_type": "stream",
     "text": [
      "['1.jpg', '2.jpg', '3.jpg', '4.jpg', '5.jpg', '6.jpg', '7.jpg', '8.jpg']\n",
      "Where to start renaming from ?\n",
      "1\n"
     ]
    }
   ],
   "source": [
    "#rename driver\n",
    "images = sorted(get_image_filenames(),key = lambda x: int(x.split('.')[0]))\n",
    "print(images)\n",
    "print(\"Where to start renaming from ?\")\n",
    "start = int(input())\n",
    "for i in range(len(images)):\n",
    "    os.rename(images[i],'{}.{}'.format(start,images[i].split('.')[1]))\n",
    "    start += 1"
   ]
  },
  {
   "cell_type": "markdown",
   "metadata": {},
   "source": [
    "<h3>Resizing images</h3>\n",
    "Use to resize new, properly renamed images<br>"
   ]
  },
  {
   "cell_type": "code",
   "execution_count": 4,
   "metadata": {},
   "outputs": [
    {
     "name": "stdout",
     "output_type": "stream",
     "text": [
      "Enter the target width resolution\n",
      "1000\n"
     ]
    }
   ],
   "source": [
    "print(\"Enter the target width resolution\")\n",
    "width = int(input())"
   ]
  },
  {
   "cell_type": "code",
   "execution_count": 5,
   "metadata": {},
   "outputs": [],
   "source": [
    "def resizer(filename, width):\n",
    "    im = cv2.imread(filename)\n",
    "    height = int(im.shape[0]*width/im.shape[1])\n",
    "    im = cv2.resize(im, (width, height), 0, 0, cv2.INTER_AREA)\n",
    "    return im"
   ]
  },
  {
   "cell_type": "code",
   "execution_count": 6,
   "metadata": {},
   "outputs": [
    {
     "name": "stdout",
     "output_type": "stream",
     "text": [
      "Enter number to start from\n",
      "1\n"
     ]
    }
   ],
   "source": [
    "#resize driver\n",
    "images = sorted(get_image_filenames(),key=lambda x:int(x.split('.')[0]))\n",
    "print(\"Enter number to start from\")\n",
    "start = int(input())\n",
    "for i in range(len(images)):\n",
    "    img = resizer(images[i], width)\n",
    "    _ = cv2.imwrite('{}.{}'.format(start,images[i].split('.')[1]), img)\n",
    "    start += 1"
   ]
  },
  {
   "cell_type": "markdown",
   "metadata": {},
   "source": [
    "<h3>HTML container generator</h3>"
   ]
  },
  {
   "cell_type": "code",
   "execution_count": 7,
   "metadata": {},
   "outputs": [
    {
     "name": "stdout",
     "output_type": "stream",
     "text": [
      "<div class=\"col-lg-4 col-md-6 gallery-item filter-some_filter\"> \n",
      "    <img src=\"assets/img/gallery/some_pic.jpg\" class=\"img-fluid\" alt=\"\">\n",
      "</div>\n"
     ]
    }
   ],
   "source": [
    "#creating the container template\n",
    "container = '''<div class=\"col-lg-4 col-md-6 gallery-item filter-{filter}\"> \n",
    "    <img src=\"assets/img/gallery/{filename}\" class=\"img-fluid\" alt=\"\">\n",
    "</div>\n",
    "'''\n",
    "\n",
    "print(container.format(filter=\"some_filter\", filename=\"some_pic.jpg\"), end=\"\")"
   ]
  },
  {
   "cell_type": "markdown",
   "metadata": {},
   "source": [
    "<hr><h4>The current filters are :</h4>\n",
    "<ul>\n",
    "    <li><pre>home       : Pragyaa 2.0</pre></li>\n",
    "    <li><pre>beach      : Roboprix 2020</pre></li>\n",
    "    <li><pre>vacation   : Waves 2020</pre></li>\n",
    "</ul>"
   ]
  },
  {
   "cell_type": "code",
   "execution_count": 8,
   "metadata": {},
   "outputs": [],
   "source": [
    "#list generator\n",
    "def generate():\n",
    "    names = sorted(get_image_filenames(), key= lambda x:int(x.split('.')[0]))\n",
    "    print('Enter filter')\n",
    "    fil = input()\n",
    "    print('Enter folder name')\n",
    "    fol = input()\n",
    "    containers = []\n",
    "    for i in range(len(names)):\n",
    "        containers.append(container.format(filter=fil, filename=fol+\"/\"+names[i]))\n",
    "    return containers"
   ]
  },
  {
   "cell_type": "code",
   "execution_count": 9,
   "metadata": {},
   "outputs": [
    {
     "name": "stdout",
     "output_type": "stream",
     "text": [
      "Enter filter\n",
      "vacation\n",
      "Enter folder name\n",
      "waves\n"
     ]
    }
   ],
   "source": [
    "#Generation\n",
    "list_of_divs = generate()"
   ]
  },
  {
   "cell_type": "code",
   "execution_count": 10,
   "metadata": {},
   "outputs": [
    {
     "name": "stdout",
     "output_type": "stream",
     "text": [
      "<div class=\"col-lg-4 col-md-6 gallery-item filter-vacation\"> \n",
      "    <img src=\"assets/img/gallery/waves/1.jpg\" class=\"img-fluid\" alt=\"\">\n",
      "</div>\n",
      "\n",
      "<div class=\"col-lg-4 col-md-6 gallery-item filter-vacation\"> \n",
      "    <img src=\"assets/img/gallery/waves/2.jpg\" class=\"img-fluid\" alt=\"\">\n",
      "</div>\n",
      "\n",
      "<div class=\"col-lg-4 col-md-6 gallery-item filter-vacation\"> \n",
      "    <img src=\"assets/img/gallery/waves/3.jpg\" class=\"img-fluid\" alt=\"\">\n",
      "</div>\n",
      "\n",
      "<div class=\"col-lg-4 col-md-6 gallery-item filter-vacation\"> \n",
      "    <img src=\"assets/img/gallery/waves/4.jpg\" class=\"img-fluid\" alt=\"\">\n",
      "</div>\n",
      "\n",
      "<div class=\"col-lg-4 col-md-6 gallery-item filter-vacation\"> \n",
      "    <img src=\"assets/img/gallery/waves/5.jpg\" class=\"img-fluid\" alt=\"\">\n",
      "</div>\n",
      "\n",
      "<div class=\"col-lg-4 col-md-6 gallery-item filter-vacation\"> \n",
      "    <img src=\"assets/img/gallery/waves/6.jpg\" class=\"img-fluid\" alt=\"\">\n",
      "</div>\n",
      "\n",
      "<div class=\"col-lg-4 col-md-6 gallery-item filter-vacation\"> \n",
      "    <img src=\"assets/img/gallery/waves/7.jpg\" class=\"img-fluid\" alt=\"\">\n",
      "</div>\n",
      "\n",
      "<div class=\"col-lg-4 col-md-6 gallery-item filter-vacation\"> \n",
      "    <img src=\"assets/img/gallery/waves/8.jpg\" class=\"img-fluid\" alt=\"\">\n",
      "</div>\n",
      "\n"
     ]
    }
   ],
   "source": [
    "# Copy paste the output of this to the html file now\n",
    "\n",
    "#in case ypu want some shuffling, un-comment this\n",
    "#random.shuffle(list_of_divs)\n",
    "\n",
    "print('\\n'.join(list_of_divs))"
   ]
  },
  {
   "cell_type": "code",
   "execution_count": null,
   "metadata": {},
   "outputs": [],
   "source": []
  }
 ],
 "metadata": {
  "kernelspec": {
   "display_name": "Python 3",
   "language": "python",
   "name": "python3"
  },
  "language_info": {
   "codemirror_mode": {
    "name": "ipython",
    "version": 3
   },
   "file_extension": ".py",
   "mimetype": "text/x-python",
   "name": "python",
   "nbconvert_exporter": "python",
   "pygments_lexer": "ipython3",
   "version": "3.8.3"
  }
 },
 "nbformat": 4,
 "nbformat_minor": 4
}
